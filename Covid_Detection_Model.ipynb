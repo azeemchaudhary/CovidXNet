{
  "cells": [
    {
      "cell_type": "code",
      "execution_count": 2,
      "metadata": {
        "colab": {
          "base_uri": "https://localhost:8080/"
        },
        "id": "aAAybK6sX31k",
        "outputId": "d9e74ee9-9ca7-48a3-985a-e22dbd359b98"
      },
      "outputs": [
        {
          "output_type": "stream",
          "name": "stdout",
          "text": [
            "Drive already mounted at /content/drive; to attempt to forcibly remount, call drive.mount(\"/content/drive\", force_remount=True).\n"
          ]
        }
      ],
      "source": [
        "from google.colab import drive\n",
        "drive.mount('/content/drive')"
      ]
    },
    {
      "cell_type": "code",
      "execution_count": 3,
      "metadata": {
        "id": "oBZ4fcqLYRkJ"
      },
      "outputs": [],
      "source": [
        "import numpy as np  # linear algebra\n",
        "import pandas as pd # data processing, CSV file I/O (e.g. pd.read_csv)\n",
        "import math\n",
        "import cv2\n",
        "import os\n",
        "#import umap\n",
        "import shutil\n",
        "import glob\n",
        "import seaborn as sns\n",
        "import matplotlib.pyplot as plt\n",
        "from PIL import Image\n",
        "from scipy import misc\n",
        "from os import listdir\n",
        "from os.path import isfile, join\n",
        "from random import shuffle\n",
        "from collections import Counter\n",
        "from sklearn.decomposition import PCA\n",
        "from sklearn.manifold import TSNE\n",
        "import tensorflow as tf\n",
        "from keras.models import Sequential\n",
        "from keras.preprocessing import image\n",
        "from keras.layers import Conv2D, MaxPooling2D\n",
        "from keras.layers import Activation, Dropout, Flatten, Dense\n",
        "from keras.utils.np_utils import to_categorical"
      ]
    },
    {
      "cell_type": "code",
      "execution_count": 4,
      "metadata": {
        "colab": {
          "base_uri": "https://localhost:8080/",
          "height": 36
        },
        "id": "oz2Tc-pKbF6r",
        "outputId": "40a89a26-affe-4396-91ba-457eba52dc94"
      },
      "outputs": [
        {
          "output_type": "execute_result",
          "data": {
            "text/plain": [
              "'\\nfor image in imgs:\\n  for count in glob.iglob(ROOT_DIR+image+\"*\"):\\n    counter[image] += 1\\n\\ncounter\\n'"
            ],
            "application/vnd.google.colaboratory.intrinsic+json": {
              "type": "string"
            }
          },
          "metadata": {},
          "execution_count": 4
        }
      ],
      "source": [
        "counter = {'COVID':3616,'Normal':10192}\n",
        "\n",
        "'''\n",
        "for image in imgs:\n",
        "  for count in glob.iglob(ROOT_DIR+image+\"*\"):\n",
        "    counter[image] += 1\n",
        "\n",
        "counter\n",
        "'''"
      ]
    },
    {
      "cell_type": "code",
      "execution_count": 5,
      "metadata": {
        "colab": {
          "base_uri": "https://localhost:8080/",
          "height": 336
        },
        "id": "2J1GHKgiU6u5",
        "outputId": "213288b8-c241-4371-b43e-51e20faff3ca"
      },
      "outputs": [
        {
          "output_type": "display_data",
          "data": {
            "text/plain": [
              "<Figure size 720x360 with 1 Axes>"
            ],
            "image/png": "[encoded data removed]"
          },
          "metadata": {
            "needs_background": "light"
          }
        }
      ],
      "source": [
        "plt.figure(figsize=(10,5))\n",
        "plt.bar(x = counter.keys(), height= counter.values())\n",
        "plt.title(\"Covid: 3616 - Normal: 10192\")\n",
        "plt.show()"
      ]
    },
    {
      "cell_type": "code",
      "execution_count": 6,
      "metadata": {
        "id": "YT26hg6zzlf-"
      },
      "outputs": [],
      "source": [
        "train_datagen = image.ImageDataGenerator(rescale=1/255, \n",
        "                                         horizontal_flip=True, zoom_range=0.2, \n",
        "                                         shear_range=0.2)"
      ]
    },
    {
      "cell_type": "code",
      "execution_count": 7,
      "metadata": {
        "colab": {
          "base_uri": "https://localhost:8080/"
        },
        "id": "hnWWI1XB0kha",
        "outputId": "a318e9d0-10c0-4615-ea62-d89b33a4d75e"
      },
      "outputs": [
        {
          "output_type": "stream",
          "name": "stdout",
          "text": [
            "Found 410 images belonging to 2 classes.\n"
          ]
        }
      ],
      "source": [
        "train_data = train_datagen.flow_from_directory(directory='/content/drive/MyDrive/Train', \n",
        "                                               target_size=(256,256), batch_size=16, \n",
        "                                               class_mode='binary')"
      ]
    },
    {
      "cell_type": "code",
      "execution_count": 8,
      "metadata": {
        "colab": {
          "base_uri": "https://localhost:8080/"
        },
        "id": "US14JLC62Mq8",
        "outputId": "7466c5c5-c417-4772-d649-5a0ecb5df92f"
      },
      "outputs": [
        {
          "output_type": "execute_result",
          "data": {
            "text/plain": [
              "{'Covid': 0, 'Normal': 1}"
            ]
          },
          "metadata": {},
          "execution_count": 8
        }
      ],
      "source": [
        "train_data.class_indices"
      ]
    },
    {
      "cell_type": "code",
      "execution_count": 9,
      "metadata": {
        "id": "RS7kUCcR2cjk"
      },
      "outputs": [],
      "source": [
        "test_datagen = image.ImageDataGenerator(rescale=1/255)"
      ]
    },
    {
      "cell_type": "code",
      "execution_count": 10,
      "metadata": {
        "colab": {
          "base_uri": "https://localhost:8080/"
        },
        "id": "7xmrS88r2rn_",
        "outputId": "4210721f-5b39-4295-aa8a-ac8e3d2249cb"
      },
      "outputs": [
        {
          "output_type": "stream",
          "name": "stdout",
          "text": [
            "Found 170 images belonging to 2 classes.\n"
          ]
        }
      ],
      "source": [
        "test_data = test_datagen.flow_from_directory(directory='/content/drive/MyDrive/Test', \n",
        "                                               target_size=(256,256), batch_size=16,\n",
        "                                               class_mode='binary')"
      ]
    },
    {
      "cell_type": "code",
      "execution_count": 11,
      "metadata": {
        "colab": {
          "base_uri": "https://localhost:8080/"
        },
        "id": "qBGvHOnGEJNR",
        "outputId": "a237beed-f4e6-494e-e49b-c1b558405083"
      },
      "outputs": [
        {
          "output_type": "stream",
          "name": "stdout",
          "text": [
            "Model: \"sequential\"\n",
            "_________________________________________________________________\n",
            " Layer (type)                Output Shape              Param #   \n",
            "=================================================================\n",
            " conv2d (Conv2D)             (None, 254, 254, 32)      896       \n",
            "                                                                 \n",
            " conv2d_1 (Conv2D)           (None, 252, 252, 64)      18496     \n",
            "                                                                 \n",
            " max_pooling2d (MaxPooling2D  (None, 126, 126, 64)     0         \n",
            " )                                                               \n",
            "                                                                 \n",
            " dropout (Dropout)           (None, 126, 126, 64)      0         \n",
            "                                                                 \n",
            " conv2d_2 (Conv2D)           (None, 124, 124, 64)      36928     \n",
            "                                                                 \n",
            " max_pooling2d_1 (MaxPooling  (None, 62, 62, 64)       0         \n",
            " 2D)                                                             \n",
            "                                                                 \n",
            " dropout_1 (Dropout)         (None, 62, 62, 64)        0         \n",
            "                                                                 \n",
            " conv2d_3 (Conv2D)           (None, 60, 60, 128)       73856     \n",
            "                                                                 \n",
            " max_pooling2d_2 (MaxPooling  (None, 30, 30, 128)      0         \n",
            " 2D)                                                             \n",
            "                                                                 \n",
            " dropout_2 (Dropout)         (None, 30, 30, 128)       0         \n",
            "                                                                 \n",
            " flatten (Flatten)           (None, 115200)            0         \n",
            "                                                                 \n",
            " dense (Dense)               (None, 64)                7372864   \n",
            "                                                                 \n",
            " dropout_3 (Dropout)         (None, 64)                0         \n",
            "                                                                 \n",
            " dense_1 (Dense)             (None, 1)                 65        \n",
            "                                                                 \n",
            "=================================================================\n",
            "Total params: 7,503,105\n",
            "Trainable params: 7,503,105\n",
            "Non-trainable params: 0\n",
            "_________________________________________________________________\n"
          ]
        }
      ],
      "source": [
        "model = Sequential()\n",
        "\n",
        "model.add(Conv2D(filters=32, kernel_size=(3,3), activation='relu', input_shape=(256,256,3)))\n",
        "\n",
        "model.add(Conv2D(filters=64, kernel_size=(3,3), activation='relu'))\n",
        "model.add(MaxPooling2D())\n",
        "model.add(Dropout(rate=0.25))\n",
        "\n",
        "model.add(Conv2D(filters=64, kernel_size=(3,3), activation='relu'))\n",
        "model.add(MaxPooling2D())\n",
        "model.add(Dropout(rate=0.25))\n",
        "\n",
        "model.add(Conv2D(filters=128, kernel_size=(3,3), activation='relu'))\n",
        "model.add(MaxPooling2D())\n",
        "model.add(Dropout(rate=0.25))\n",
        "\n",
        "model.add(Flatten())\n",
        "model.add(Dense(units=64, activation='relu'))\n",
        "model.add(Dropout(rate=0.50))\n",
        "model.add(Dense(units=1, activation='sigmoid'))\n",
        "\n",
        "model.summary()"
      ]
    },
    {
      "cell_type": "code",
      "execution_count": 12,
      "metadata": {
        "id": "bc57AgeKF_4k"
      },
      "outputs": [],
      "source": [
        "model.compile(loss='binary_crossentropy', optimizer=\"adam\", metrics=['acc'])"
      ]
    },
    {
      "cell_type": "code",
      "execution_count": 13,
      "metadata": {
        "colab": {
          "base_uri": "https://localhost:8080/"
        },
        "id": "1LhNyh_7GUec",
        "outputId": "cbf5d784-ebb0-43fd-f2fe-21f7d790109b"
      },
      "outputs": [
        {
          "output_type": "stream",
          "name": "stdout",
          "text": [
            "Epoch 1/10\n",
            "8/8 [==============================] - 49s 5s/step - loss: 2.6910 - acc: 0.5656 - val_loss: 0.7378 - val_acc: 0.5312\n",
            "Epoch 2/10\n",
            "8/8 [==============================] - 27s 4s/step - loss: 0.7515 - acc: 0.4531 - val_loss: 0.6878 - val_acc: 0.9375\n",
            "Epoch 3/10\n",
            "8/8 [==============================] - 22s 3s/step - loss: 0.6568 - acc: 0.6875 - val_loss: 0.6336 - val_acc: 0.6562\n",
            "Epoch 4/10\n",
            "8/8 [==============================] - 14s 2s/step - loss: 0.6482 - acc: 0.6250 - val_loss: 0.5906 - val_acc: 0.6250\n",
            "Epoch 5/10\n",
            "8/8 [==============================] - 8s 1s/step - loss: 0.6127 - acc: 0.6328 - val_loss: 0.4053 - val_acc: 0.7188\n",
            "Epoch 6/10\n",
            "8/8 [==============================] - 9s 1s/step - loss: 0.5201 - acc: 0.6557 - val_loss: 0.5303 - val_acc: 0.5312\n",
            "Epoch 7/10\n",
            "8/8 [==============================] - 4s 572ms/step - loss: 0.4628 - acc: 0.6967 - val_loss: 0.5130 - val_acc: 0.6562\n",
            "Epoch 8/10\n",
            "8/8 [==============================] - 4s 477ms/step - loss: 0.5462 - acc: 0.7377 - val_loss: 0.3593 - val_acc: 0.9688\n",
            "Epoch 9/10\n",
            "8/8 [==============================] - 4s 469ms/step - loss: 0.5298 - acc: 0.7422 - val_loss: 0.3697 - val_acc: 0.9375\n",
            "Epoch 10/10\n",
            "8/8 [==============================] - 3s 403ms/step - loss: 0.5021 - acc: 0.7500 - val_loss: 0.3300 - val_acc: 0.7500\n"
          ]
        }
      ],
      "source": [
        "history = model.fit(train_data, steps_per_epoch=8, epochs=10, \n",
        "                    validation_steps=2, \n",
        "                    validation_data=test_data)"
      ]
    },
    {
      "cell_type": "code",
      "execution_count": 14,
      "metadata": {
        "colab": {
          "base_uri": "https://localhost:8080/"
        },
        "id": "gK2rECZuJjW7",
        "outputId": "9354ab92-84dc-4823-93b2-812827677f7d"
      },
      "outputs": [
        {
          "output_type": "execute_result",
          "data": {
            "text/plain": [
              "dict_keys(['loss', 'acc', 'val_loss', 'val_acc'])"
            ]
          },
          "metadata": {},
          "execution_count": 14
        }
      ],
      "source": [
        "h = history.history\n",
        "h.keys()"
      ]
    },
    {
      "cell_type": "code",
      "execution_count": 15,
      "metadata": {
        "colab": {
          "base_uri": "https://localhost:8080/",
          "height": 281
        },
        "id": "lKxY_U4OLraL",
        "outputId": "cc91aa41-cb25-41ec-dc0d-9644d9f8f667"
      },
      "outputs": [
        {
          "output_type": "display_data",
          "data": {
            "text/plain": [
              "<Figure size 432x288 with 1 Axes>"
            ],
            "image/png": "[encoded data removed]"
          },
          "metadata": {
            "needs_background": "light"
          }
        }
      ],
      "source": [
        "plt.plot(h['acc'])\n",
        "plt.plot(h['val_acc'] , c = \"red\")\n",
        "plt.title(\"Accuracy vs Valid Accuracy\")\n",
        "plt.show()"
      ]
    },
    {
      "cell_type": "code",
      "execution_count": 16,
      "metadata": {
        "colab": {
          "base_uri": "https://localhost:8080/",
          "height": 295
        },
        "id": "kIPhmrP7zH-N",
        "outputId": "d2046dc1-f7a3-445d-d25d-ac3fd06ee582"
      },
      "outputs": [
        {
          "output_type": "display_data",
          "data": {
            "text/plain": [
              "<Figure size 432x288 with 1 Axes>"
            ],
            "image/png": "[encoded data removed]"
          },
          "metadata": {
            "needs_background": "light"
          }
        }
      ],
      "source": [
        "acc = history.history['acc']\n",
        "val_acc = history.history['val_acc']\n",
        "epochs = range(1,11)\n",
        "plt.plot(epochs, val_acc, 'r', label='Validation Accuracy')\n",
        "plt.plot(epochs, acc, 'b', label='Accuracy')\n",
        "plt.title('Accuracy vs Validation Accuracy')\n",
        "plt.xlabel('Epochs')\n",
        "plt.ylabel('Accuracy')\n",
        "plt.legend()\n",
        "plt.show()"
      ]
    },
    {
      "cell_type": "code",
      "execution_count": 17,
      "metadata": {
        "colab": {
          "base_uri": "https://localhost:8080/",
          "height": 295
        },
        "id": "5CTGWrIvmzXe",
        "outputId": "e36381db-43eb-4bd8-f41c-bea771fc2d46"
      },
      "outputs": [
        {
          "output_type": "display_data",
          "data": {
            "text/plain": [
              "<Figure size 432x288 with 1 Axes>"
            ],
            "image/png": "[encoded data removed]"
          },
          "metadata": {
            "needs_background": "light"
          }
        }
      ],
      "source": [
        "loss = history.history['loss']\n",
        "val_loss = history.history['val_loss']\n",
        "epochs = range(1,11)\n",
        "plt.plot(epochs, val_loss, 'r', label='Validation Loss')\n",
        "plt.plot(epochs, loss, 'b', label='Loss')\n",
        "plt.title('Loss vs Validation Loss')\n",
        "plt.xlabel('Epochs')\n",
        "plt.ylabel('Loss')\n",
        "plt.legend()\n",
        "plt.show()"
      ]
    },
    {
      "cell_type": "code",
      "execution_count": 18,
      "metadata": {
        "colab": {
          "base_uri": "https://localhost:8080/",
          "height": 281
        },
        "id": "rTjKmZzJyMtY",
        "outputId": "14b296ef-357d-4eee-bfbc-0c357ec49450"
      },
      "outputs": [
        {
          "output_type": "display_data",
          "data": {
            "text/plain": [
              "<Figure size 432x288 with 1 Axes>"
            ],
            "image/png": "[encoded data removed]"
          },
          "metadata": {
            "needs_background": "light"
          }
        }
      ],
      "source": [
        "plt.plot(h['loss'])\n",
        "plt.plot(h['val_loss'] , c = \"red\")\n",
        "plt.title(\"Loss vs Valid Loss\")\n",
        "plt.show()"
      ]
    },
    {
      "cell_type": "code",
      "execution_count": 19,
      "metadata": {
        "id": "WwtWT_Ru1KOh",
        "colab": {
          "base_uri": "https://localhost:8080/"
        },
        "outputId": "d43a1120-7afc-45a9-99e8-83d89f6876ba"
      },
      "outputs": [
        {
          "output_type": "stream",
          "name": "stdout",
          "text": [
            "8/8 [==============================] - 2s 212ms/step\n"
          ]
        }
      ],
      "source": [
        "predictions = model.predict(test_data, steps=8)\n",
        "# Get most likely class\n",
        "predicted_classes = np.argmax(predictions, axis=1)"
      ]
    },
    {
      "cell_type": "code",
      "execution_count": 20,
      "metadata": {
        "colab": {
          "base_uri": "https://localhost:8080/"
        },
        "id": "MligUN6b1ir_",
        "outputId": "dd79f15a-43d3-40da-a758-39c1635be529"
      },
      "outputs": [
        {
          "output_type": "execute_result",
          "data": {
            "text/plain": [
              "array([0, 0, 0, 0, 0, 0, 0, 0, 0, 0, 0, 0, 0, 0, 0, 0, 0, 0, 0, 0, 0, 0,\n",
              "       0, 0, 0, 0, 0, 0, 0, 0, 0, 0, 0, 0, 0, 0, 0, 0, 0, 0, 0, 0, 0, 0,\n",
              "       0, 0, 0, 0, 0, 0, 0, 0, 0, 0, 0, 0, 0, 0, 0, 0, 0, 0, 0, 0, 0, 0,\n",
              "       0, 0, 0, 0, 0, 0, 0, 0, 0, 0, 0, 0, 0, 0, 0, 0, 0, 0, 0, 0, 0, 0,\n",
              "       0, 0, 0, 0, 0, 0, 0, 0, 0, 0, 0, 0, 0, 0, 0, 0, 0, 0, 0, 0, 0, 0,\n",
              "       0, 0, 0, 0, 0, 0, 0, 0, 0, 0, 0, 0, 0, 0, 0, 0, 0, 0])"
            ]
          },
          "metadata": {},
          "execution_count": 20
        }
      ],
      "source": [
        "predicted_classes"
      ]
    },
    {
      "cell_type": "code",
      "execution_count": 21,
      "metadata": {
        "id": "Or7wH_ggzdi7"
      },
      "outputs": [],
      "source": [
        "true_classes = test_data.classes[:128]\n",
        "class_labels = list(test_data.class_indices.keys())  "
      ]
    },
    {
      "cell_type": "code",
      "execution_count": 22,
      "metadata": {
        "colab": {
          "base_uri": "https://localhost:8080/"
        },
        "id": "WQ18EqhK04XP",
        "outputId": "841431ae-4f0a-482c-dcd2-0e4885262e0e"
      },
      "outputs": [
        {
          "output_type": "stream",
          "name": "stdout",
          "text": [
            "[[70  0]\n",
            " [58  0]]\n"
          ]
        }
      ],
      "source": [
        "from sklearn.metrics import confusion_matrix\n",
        "\n",
        "print(confusion_matrix(true_classes, predicted_classes))"
      ]
    },
    {
      "cell_type": "code",
      "execution_count": 23,
      "metadata": {
        "colab": {
          "base_uri": "https://localhost:8080/"
        },
        "id": "9WVAYyZB0752",
        "outputId": "b3fab0ce-703f-4204-da47-10737a78b6f2"
      },
      "outputs": [
        {
          "output_type": "execute_result",
          "data": {
            "text/plain": [
              "['Covid', 'Normal']"
            ]
          },
          "metadata": {},
          "execution_count": 23
        }
      ],
      "source": [
        "class_labels"
      ]
    },
    {
      "cell_type": "code",
      "execution_count": 24,
      "metadata": {
        "colab": {
          "base_uri": "https://localhost:8080/"
        },
        "id": "niFwUOWN1owZ",
        "outputId": "bbd9e9a6-3370-47d7-c7e7-8142f1eb9ee6"
      },
      "outputs": [
        {
          "output_type": "stream",
          "name": "stdout",
          "text": [
            "              precision    recall  f1-score   support\n",
            "\n",
            "           0       0.55      1.00      0.71        70\n",
            "           1       0.00      0.00      0.00        58\n",
            "\n",
            "    accuracy                           0.55       128\n",
            "   macro avg       0.27      0.50      0.35       128\n",
            "weighted avg       0.30      0.55      0.39       128\n",
            "\n"
          ]
        },
        {
          "output_type": "stream",
          "name": "stderr",
          "text": [
            "/usr/local/lib/python3.8/dist-packages/sklearn/metrics/_classification.py:1318: UndefinedMetricWarning: Precision and F-score are ill-defined and being set to 0.0 in labels with no predicted samples. Use `zero_division` parameter to control this behavior.\n",
            "  _warn_prf(average, modifier, msg_start, len(result))\n",
            "/usr/local/lib/python3.8/dist-packages/sklearn/metrics/_classification.py:1318: UndefinedMetricWarning: Precision and F-score are ill-defined and being set to 0.0 in labels with no predicted samples. Use `zero_division` parameter to control this behavior.\n",
            "  _warn_prf(average, modifier, msg_start, len(result))\n",
            "/usr/local/lib/python3.8/dist-packages/sklearn/metrics/_classification.py:1318: UndefinedMetricWarning: Precision and F-score are ill-defined and being set to 0.0 in labels with no predicted samples. Use `zero_division` parameter to control this behavior.\n",
            "  _warn_prf(average, modifier, msg_start, len(result))\n"
          ]
        }
      ],
      "source": [
        "from sklearn import metrics\n",
        "report = metrics.classification_report(true_classes, predicted_classes)\n",
        "print(report)   "
      ]
    }
  ],
  "metadata": {
    "accelerator": "GPU",
    "colab": {
      "provenance": []
    },
    "gpuClass": "standard",
    "kernelspec": {
      "display_name": "Python 3",
      "language": "python",
      "name": "python3"
    },
    "language_info": {
      "codemirror_mode": {
        "name": "ipython",
        "version": 3
      },
      "file_extension": ".py",
      "mimetype": "text/x-python",
      "name": "python",
      "nbconvert_exporter": "python",
      "pygments_lexer": "ipython3",
      "version": "3.7.4"
    }
  },
  "nbformat": 4,
  "nbformat_minor": 0
}